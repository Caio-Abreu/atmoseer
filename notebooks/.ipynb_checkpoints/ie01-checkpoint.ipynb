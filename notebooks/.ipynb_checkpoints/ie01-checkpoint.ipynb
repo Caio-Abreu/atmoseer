{
 "cells": [
  {
   "cell_type": "markdown",
   "metadata": {
    "id": "Qd5xVRuUJ8E2"
   },
   "source": [
    "# Conceitos básicos da Inferência Estatística"
   ]
  },
  {
   "cell_type": "markdown",
   "metadata": {
    "id": "W1G8GZXCKAWO"
   },
   "source": [
    "\n",
    "## População e amostra\n",
    "\n",
    "\n",
    "* **População** (*population*) é a totalidade de elementos ou resultados (escores, pessoas, medidas, etc) que estão sob discussão e dos quais se deseja inferir alguma informação. Na Estatística, o termo \"população\" tem um significado ligeiramente diferente daquele que lhe é atribuído no discurso comum. Não precisa se referir apenas a pessoas ou a outros seres vivos - a população da Grã-Bretanha, por exemplo, ou a população de cães de Londres. Os estatísticos também usam o termo população para denotar coleções de objetos, eventos ou procedimentos ou observações, incluindo coisas como as quantidades de colesterol medidas no sangue de um grupo de indivíduos, visitas ao médico ou operações cirúrgicas.\n",
    "\n",
    "\n",
    "* **Amostra** (*sample*) é qualquer subconjunto de uma população. Dado um inteiro positivo $n$, uma amostra corresponde aos resultados de $n$ experimentos nos quais a mesma quantidade é medida. Por exemplo, se queremos estimar a altura média dos membros de uma determinada população, inicialmente medimos a altura de $n$ indivíduos.\n",
    "\n",
    "<p align=\"center\">\n",
    "  <img src=\"https://upload.wikimedia.org/wikipedia/commons/thumb/b/bf/Simple_random_sampling.PNG/300px-Simple_random_sampling.PNG\" />\n",
    "</p>\n",
    "\n",
    "\n"
   ]
  },
  {
   "cell_type": "markdown",
   "metadata": {
    "id": "i25MHZRXKX3H"
   },
   "source": [
    "População e amostra (exemplo 01) - Considere uma escola de 5.000 alunos. Se quisermos fazer um estudo das estaturas (e.g., qual a estatura média?), podemos colher uma amostra de, digamos, 40 alunos e estudar o comportamento da **varíavel estatura** apenas nesses alunos. A variável a ser estudada poderia ser inteligência, número de irmãos, número de cáries, notas em história ou renda familiar, dentre outras.\n"
   ]
  },
  {
   "cell_type": "markdown",
   "metadata": {
    "id": "cdp3rGP-PdnZ"
   },
   "source": [
    "## Parâmetros versus estatísticas\n",
    "\n",
    "\n",
    "* Um **parâmetro** é uma medida usada para descrever uma característica de uma população. É uma medida numérica, normalmente não observável, que descreve uma característica de uma população.\n",
    "\n",
    "\n",
    "* Uma **estatística amostral** (ou simplesmente **estatística**) é alguma função computada a partir de uma amostra. Uma estatística é uma variável aleatória, pois seus valores são resultantes de alguma computação realizada sobre amostras aleatórias retiradas de uma população.\n",
    "\n",
    "Um parâmetro está para uma população assim como uma estatística está para uma amostra.\n",
    "\n",
    "Por exemplo, considere a porcentagem de eleitores de uma população que preferem um determinado candidato. Essa porcentagem é um exemplo de parâmetro populacional. Note que é (na maioria dos casos) impraticável perguntar a todos os eleitores da população quais são suas preferências de candidato. Sendo assim, uma amostra de eleitores pode ser consultada e uma estatística (nesse caso, a porcentagem dos eleitores que preferiram cada candidato) pode ser computada. Essa estatística pode então ser usada como um estimativa do parâmetro populacional.\n",
    "\n",
    "Da mesma forma, em algumas formas de teste de produtos fabricados, em vez de testar destrutivamente todos os produtos, apenas uma amostra de produtos é testada. Esses testes reúnem informações que permitem estimar qual a proporção de produtos fabricados que atende ou às especificações mínimas.\n",
    "\n",
    "> Repare que enquanto um parâmetro é um valor numérico, uma estatística é uma variável aleatória.\n",
    "\n",
    "Para entender isso, considere o experimento aleatório de produzir uma amostra aleatória de tamanho $n$ a partir de uma população. Podemos interpretar cada amostra (i.e., cada resultado da realização do experimento aleatório) como um elemento do espaço amostral correspondente a todas as possíveis amostras de tamanho $n$ dessa população. Se por definição cada valor de uma eatatística é uma função dos valores contidos na amostra aleatória correspondente, então faz sentido dizer que uma estatística é uma variável aleatória."
   ]
  },
  {
   "cell_type": "markdown",
   "metadata": {
    "id": "yXXc0W14PfJM"
   },
   "source": [
    "Alguns exemplos de parâmetros e suas notações:\n",
    "\n",
    "* $\\mu$: média populacional,\n",
    "* $\\sigma^2$: variância populacional,\n",
    "* $\\sigma$: desvio-padrão populacional,\n",
    "* $p$: proporção populacional.\n",
    "\n",
    "\n",
    "Seguem alguns exemplos de estatísticas com suas respectivas notações mais usuais (em todos os exemplos $n$ é o tamanho da amostra):\n",
    "\n",
    "* **média amostral** (*sample mean*, *empirical mean*):\n",
    "$$\n",
    "\t\t\\overline{x} = \\frac{1}{n}(x_1 + x_2 + \\ldots + x_n)\n",
    "$$\n",
    "* **variância amostral** (sample variance):\n",
    "$$\n",
    "\t\ts^2 = \\frac{1}{n-1} \\sum_{i}(x_i  - \\overline{x})^2\n",
    "$$\n",
    "\n",
    "* **desvio padrão amostral** (sample standard deviation):\n",
    "$$\n",
    "\t\ts = \\sqrt{s^2}\n",
    "$$\n",
    "\n",
    "* Considere que $k$ é a quantidade de indivíduos na amostra que possuem uma dada característica de interesse (sendo assim, $n-k$ indivíduos dessa amostra não possuem essas caracterísica). A **proporção amostral** (sample proportion) é uma estatística dada por:\n",
    "\n",
    "$$\n",
    "\t\t\\widehat{p} = \\frac{k}{n}\n",
    "$$\n",
    "\n",
    "Repare que os valores de cada uma das estatísticas acima são computados sobre amostras aleatórias de tamanho fixo $n$. De fato, cada uma dessas estatísticas é uma função que mapeia elementos de $\\Re^n$ em $\\Re$.\n"
   ]
  },
  {
   "cell_type": "markdown",
   "metadata": {
    "id": "0p-MiOJkL45N"
   },
   "source": [
    "## Objetivo da Inferência Estatística"
   ]
  },
  {
   "cell_type": "markdown",
   "metadata": {
    "id": "e1nrVssHLVHF"
   },
   "source": [
    "> O objetivo da Inferência Estatística é produzir afirmações sobre dada **característica** dos elementos de uma população, com base nos dados contidos em uma ou mais amostras dessa população.\n",
    "\n",
    "A característica sob estudo pode ser representada por uma variável aleatória, que possui uma determinada distribuição de probabilidades com determinado conjunto de parâmetros. Seguem alguns exemplos:\n",
    "\n",
    "1. A altura dos indivíduos de uma determinada população é uma característica que pode ser modelada por meio da [distribuição normal](https://en.wikipedia.org/wiki/Normal_distribution) com média $\\mu=1.65$ m e variância $\\sigma^2 = 0.2$ $m^2$.\n",
    "\n",
    "2. O tempo de atendimento em um quiosque pode ser modelado por uma [distribuição exponencial](https://en.wikipedia.org/wiki/Exponential_distribution) com média $\\lambda = 5$ minutos.\n",
    "\n",
    "3. A quantidade de defeitos em cada peça produzida em um processo industrial segue uma [distribuição de Poisson](https://en.wikipedia.org/wiki/Poisson_distribution), com média igual a $\\lambda = 0.8$.\n",
    "\n",
    "Repare que cada um dos exemplos acima presupõe que foi feito um estudo para (1) identificar a distribuição de probabilidades (normal, exponencial, Poisson, etc) mais adequada para o problema em questão e (2) identificar a combinação de parâmetros mais adequada para aquela distribuição.\n",
    "\n",
    "Quando a função de massa de probabilidade (no caso discreto) ou a função de densidade de probabilidade (no caso contínuo) da variável aleatória é conhecida, o problema de fazer afirmações sobre a população está resolvido. Ocorre que muitas vezes não sabemos nada sobre a variável ou essa informação é parcial. Por exemplo, no caso das alturas dos indivíduos de uma população, podemos presumir que elas sigam uma distribuição normal, mas em geral desconhecemos os parâmetros que a caracterizam (e.g., média e variância).\n",
    "\n"
   ]
  },
  {
   "cell_type": "markdown",
   "metadata": {
    "id": "YFLiNSCCM59t"
   },
   "source": [
    "Em geral, pode acontecer de\n",
    "\n",
    "*\ttermos uma ideia de qual deve ser a distribuição de probabilidades adequada, mas desconhecermos os valores dos parâmetros dessa distribuição.\n",
    "*\tconhecermos os valores dos parâmetros, mas desconhecermos a distribuição de probabilidades.\n",
    "*\tnão conhecermos nem a distribuição de probabilidades nem os respectivos valores dos parâmetros.\n",
    "\n",
    "Em qualquer caso, o uso de uma amostra pode nos revelar informações sobre o comportamento da variável sob estudo na população."
   ]
  },
  {
   "cell_type": "markdown",
   "metadata": {
    "id": "blSKWnohNBH0"
   },
   "source": [
    "## Problemas alvos da Inferência Estatística"
   ]
  },
  {
   "cell_type": "markdown",
   "metadata": {
    "id": "lRHRosMhNEgo"
   },
   "source": [
    "As técnicas da Inferência Estatística podem ser divididas em duas grandes famílias:\n",
    "\n",
    "**Estimação de parâmetros**\n",
    "> Conjunto de técnicas para **construir uma estimativa** para um parâmetro de uma população por meio de observações de uma amostra.\n",
    "\n",
    "**Teste de hipóteses**\n",
    "> Conjunto de técnicas para **verificar alguma alegação** acerca do parâmetro de uma população por meio de observações de um ou mais amostras.\n"
   ]
  },
  {
   "cell_type": "markdown",
   "metadata": {
    "id": "bYxtW5OGNLdl"
   },
   "source": [
    "## Planos Amostrais\n",
    "\n",
    "Dada uma população finita de tamanho $N$, a quantidade de amostras de tamanho $n$ que podem ser formadas a partir dessa população é\n",
    "$$\n",
    "\\binom{N}{n} = \\frac{N!}{n!(N-n)!}\n",
    "$$\n",
    "\n",
    "Um **plano amostral** é uma forma de produzir amostras a partir de uma população. Existem inúmeros planos amostrais. Alguns planos amostrais são:\n",
    "\n",
    "* Amostragem aleatória sistemática\n",
    "* Amostragem aleatória estratificada\n",
    "* Amostragem aleatória simples"
   ]
  },
  {
   "cell_type": "markdown",
   "metadata": {
    "id": "Uf0eMpxeNkK-"
   },
   "source": [
    "### Amostragem aleatória sistemática\n",
    "\n",
    "Os itens ou indivíduos da população são ordenados de alguma forma - alfabeticamente ou por meio de algum outro método. Um ponto de partida aleatório é sorteado, e então cada $k$-ésimo membro da população é selecionado para a amostra. A varrecura sobre a lista ordenada é realizada de forma circular.\n",
    "\n",
    "<p align=\"center\">\n",
    "  <img src=\"https://upload.wikimedia.org/wikipedia/commons/thumb/c/c4/Systematic_sampling.PNG/800px-Systematic_sampling.PNG\" />\n",
    "</p>\n"
   ]
  },
  {
   "cell_type": "markdown",
   "metadata": {
    "id": "ZyxieVkfNrgr"
   },
   "source": [
    "### Amostragem aleatória estratificada\n",
    "\n",
    "A população é inicialmente dividida em subgrupos (estratos) e uma subamostra é selecionada a partir de cada estrato da população. O objetivo é fazer com a amostra resultante contenha proporções similares dos diferentes subgrupos da população.\n",
    "\n",
    "<p align=\"center\">\n",
    "  <img src=\"https://upload.wikimedia.org/wikipedia/commons/f/fa/Stratified_sampling.PNG\" />\n",
    "</p>\n",
    "\n",
    "\n"
   ]
  },
  {
   "cell_type": "markdown",
   "metadata": {
    "id": "jWCoLscvNz_G"
   },
   "source": [
    "### Amostragem aleatória simples (AAS)\n",
    "\n",
    "Na AAS, cada amostra é escolhida de tal forma que cada elemento da população tem a mesma probabilidade de ser selecionado. Dessa forma, se a população tem tamanho $N$, cada elemento dessa população tem a mesma probabilidade igual a $1/N$ de entrar na amostra.\n",
    "\n",
    "<p align=\"center\">\n",
    "  <img src=\"https://www.questionpro.com/blog/wp-content/uploads/2018/03/Simple-random-sampling-wt-logo.jpg\" />\n",
    "</p>"
   ]
  },
  {
   "cell_type": "markdown",
   "metadata": {
    "id": "bS2H8yH4O1SZ"
   },
   "source": [
    "Uma AAS pode ser recolhida *com reposição* ou *sem reposição*.\n",
    "\n",
    "* Quando a amostra é recolhida com reposição, cada elemento eventualmente selecionado pode ser selecionado novamente.\n",
    "\n",
    "* Quando a amostra é recolhida sem reposição, não há independência entre os elementos, fato que tem impacto na fórmula do cálculo das estimativas feito a partir dessa amostra."
   ]
  },
  {
   "cell_type": "markdown",
   "metadata": {
    "id": "UxwX0zBaMMOT"
   },
   "source": [
    "### Geração de amostras com Pandas\n",
    "\n",
    "Amostras podem ser geradas por meio da biblioteca Pandas no Python. Em particular a função [sample](https://pandas.pydata.org/pandas-docs/stable/reference/api/pandas.DataFrame.sample.html) permite gerar amostras aleatórias de acordo com diferentes planos amostrais.\n",
    "\n",
    "Para ilustrar produção de amostras por meio de vários planos amostrais, vamos supor que a população corresponde aos elementos de um conjunto de dados que registra alegações de avistamentos de OVNIs. Esse conjunto de dados é publicamente disponível no portal [Kaggle](https://www.kaggle.com/NUFORC/ufo-sightings). Esse conjunto contém vários atributos, dentre os quais:\n",
    "\n",
    "- $\\texttt{datetime}$ - momento do avistamento, no formato MM/DD/AAAA HH:mm.\n",
    "- $\\texttt{city}$ - A localização do avistamento do OVNI.\n",
    "- $\\texttt{state}$ - o estado (unidade federativa) do avistamento.\n",
    "- $\\texttt{country}$ - o país do avistamento.\n",
    "- $\\texttt{shape}$ - a forma do OVNI visto.\n"
   ]
  },
  {
   "cell_type": "code",
   "execution_count": null,
   "metadata": {
    "colab": {
     "base_uri": "https://localhost:8080/",
     "height": 576
    },
    "id": "vgyVsIrXnu6s",
    "outputId": "feb020a1-56c2-4969-cc02-84f253ca1504"
   },
   "outputs": [
    {
     "name": "stderr",
     "output_type": "stream",
     "text": [
      "/usr/local/lib/python3.7/dist-packages/IPython/core/interactiveshell.py:2718: DtypeWarning: Columns (5,9) have mixed types.Specify dtype option on import or set low_memory=False.\n",
      "  interactivity=interactivity, compiler=compiler, result=result)\n"
     ]
    },
    {
     "data": {
      "text/html": [
       "<div>\n",
       "<style scoped>\n",
       "    .dataframe tbody tr th:only-of-type {\n",
       "        vertical-align: middle;\n",
       "    }\n",
       "\n",
       "    .dataframe tbody tr th {\n",
       "        vertical-align: top;\n",
       "    }\n",
       "\n",
       "    .dataframe thead th {\n",
       "        text-align: right;\n",
       "    }\n",
       "</style>\n",
       "<table border=\"1\" class=\"dataframe\">\n",
       "  <thead>\n",
       "    <tr style=\"text-align: right;\">\n",
       "      <th></th>\n",
       "      <th>datetime</th>\n",
       "      <th>city</th>\n",
       "      <th>state</th>\n",
       "      <th>country</th>\n",
       "      <th>shape</th>\n",
       "      <th>duration (seconds)</th>\n",
       "      <th>duration (hours/min)</th>\n",
       "      <th>comments</th>\n",
       "      <th>date posted</th>\n",
       "      <th>latitude</th>\n",
       "      <th>longitude</th>\n",
       "    </tr>\n",
       "  </thead>\n",
       "  <tbody>\n",
       "    <tr>\n",
       "      <th>0</th>\n",
       "      <td>10/10/1949 20:30</td>\n",
       "      <td>san marcos</td>\n",
       "      <td>tx</td>\n",
       "      <td>us</td>\n",
       "      <td>cylinder</td>\n",
       "      <td>2700</td>\n",
       "      <td>45 minutes</td>\n",
       "      <td>This event took place in early fall around 194...</td>\n",
       "      <td>4/27/2004</td>\n",
       "      <td>29.8830556</td>\n",
       "      <td>-97.941111</td>\n",
       "    </tr>\n",
       "    <tr>\n",
       "      <th>1</th>\n",
       "      <td>10/10/1949 21:00</td>\n",
       "      <td>lackland afb</td>\n",
       "      <td>tx</td>\n",
       "      <td>NaN</td>\n",
       "      <td>light</td>\n",
       "      <td>7200</td>\n",
       "      <td>1-2 hrs</td>\n",
       "      <td>1949 Lackland AFB&amp;#44 TX.  Lights racing acros...</td>\n",
       "      <td>12/16/2005</td>\n",
       "      <td>29.38421</td>\n",
       "      <td>-98.581082</td>\n",
       "    </tr>\n",
       "    <tr>\n",
       "      <th>2</th>\n",
       "      <td>10/10/1955 17:00</td>\n",
       "      <td>chester (uk/england)</td>\n",
       "      <td>NaN</td>\n",
       "      <td>gb</td>\n",
       "      <td>circle</td>\n",
       "      <td>20</td>\n",
       "      <td>20 seconds</td>\n",
       "      <td>Green/Orange circular disc over Chester&amp;#44 En...</td>\n",
       "      <td>1/21/2008</td>\n",
       "      <td>53.2</td>\n",
       "      <td>-2.916667</td>\n",
       "    </tr>\n",
       "    <tr>\n",
       "      <th>3</th>\n",
       "      <td>10/10/1956 21:00</td>\n",
       "      <td>edna</td>\n",
       "      <td>tx</td>\n",
       "      <td>us</td>\n",
       "      <td>circle</td>\n",
       "      <td>20</td>\n",
       "      <td>1/2 hour</td>\n",
       "      <td>My older brother and twin sister were leaving ...</td>\n",
       "      <td>1/17/2004</td>\n",
       "      <td>28.9783333</td>\n",
       "      <td>-96.645833</td>\n",
       "    </tr>\n",
       "    <tr>\n",
       "      <th>4</th>\n",
       "      <td>10/10/1960 20:00</td>\n",
       "      <td>kaneohe</td>\n",
       "      <td>hi</td>\n",
       "      <td>us</td>\n",
       "      <td>light</td>\n",
       "      <td>900</td>\n",
       "      <td>15 minutes</td>\n",
       "      <td>AS a Marine 1st Lt. flying an FJ4B fighter/att...</td>\n",
       "      <td>1/22/2004</td>\n",
       "      <td>21.4180556</td>\n",
       "      <td>-157.803611</td>\n",
       "    </tr>\n",
       "  </tbody>\n",
       "</table>\n",
       "</div>"
      ],
      "text/plain": [
       "           datetime                  city  ...    latitude  longitude \n",
       "0  10/10/1949 20:30            san marcos  ...  29.8830556  -97.941111\n",
       "1  10/10/1949 21:00          lackland afb  ...    29.38421  -98.581082\n",
       "2  10/10/1955 17:00  chester (uk/england)  ...        53.2   -2.916667\n",
       "3  10/10/1956 21:00                  edna  ...  28.9783333  -96.645833\n",
       "4  10/10/1960 20:00               kaneohe  ...  21.4180556 -157.803611\n",
       "\n",
       "[5 rows x 11 columns]"
      ]
     },
     "execution_count": 10,
     "metadata": {},
     "output_type": "execute_result"
    }
   ],
   "source": [
    "import pandas as pd\n",
    "\n",
    "link = 'scrubbed.csv'\n",
    "ufo_df = pd.read_csv(link, encoding='utf8') # dataframe\n",
    "\n",
    "ufo_df.head(12)"
   ]
  },
  {
   "cell_type": "markdown",
   "metadata": {
    "id": "kDxNG1Ox6_Nc"
   },
   "source": [
    "Podemos primeiro inspecionar os detalhes dos atributos desse conjunto de dados."
   ]
  },
  {
   "cell_type": "code",
   "execution_count": null,
   "metadata": {
    "colab": {
     "base_uri": "https://localhost:8080/"
    },
    "id": "YfNQLfSf7A4E",
    "outputId": "08252021-910a-46ff-877c-6de68c3602bd"
   },
   "outputs": [
    {
     "name": "stdout",
     "output_type": "stream",
     "text": [
      "<class 'pandas.core.frame.DataFrame'>\n",
      "RangeIndex: 80332 entries, 0 to 80331\n",
      "Data columns (total 11 columns):\n",
      " #   Column                Non-Null Count  Dtype  \n",
      "---  ------                --------------  -----  \n",
      " 0   datetime              80332 non-null  object \n",
      " 1   city                  80332 non-null  object \n",
      " 2   state                 74535 non-null  object \n",
      " 3   country               70662 non-null  object \n",
      " 4   shape                 78400 non-null  object \n",
      " 5   duration (seconds)    80332 non-null  object \n",
      " 6   duration (hours/min)  80332 non-null  object \n",
      " 7   comments              80317 non-null  object \n",
      " 8   date posted           80332 non-null  object \n",
      " 9   latitude              80332 non-null  object \n",
      " 10  longitude             80332 non-null  float64\n",
      "dtypes: float64(1), object(10)\n",
      "memory usage: 6.7+ MB\n"
     ]
    }
   ],
   "source": [
    "ufo_df.info()"
   ]
  },
  {
   "cell_type": "code",
   "execution_count": null,
   "metadata": {
    "colab": {
     "base_uri": "https://localhost:8080/"
    },
    "id": "sLVgJzzKn5DN",
    "outputId": "91ae872f-89aa-428c-8897-d4516b8ebba0"
   },
   "outputs": [
    {
     "data": {
      "text/plain": [
       "(80332, 11)"
      ]
     },
     "execution_count": 12,
     "metadata": {},
     "output_type": "execute_result"
    }
   ],
   "source": [
    "ufo_df.shape"
   ]
  },
  {
   "cell_type": "markdown",
   "metadata": {
    "id": "ArEZtHuYl0jk"
   },
   "source": [
    "#### Amostragem aleatória sistemática\n",
    "\n",
    "Agora podemos gerar uma amostra aleatória sistemática de tamanho $n=100$. Vamos realizar essa geração usando um deslocamento entre amostras igual a $5$."
   ]
  },
  {
   "cell_type": "code",
   "execution_count": null,
   "metadata": {
    "colab": {
     "base_uri": "https://localhost:8080/"
    },
    "id": "EeX4E6GKl05t",
    "outputId": "ff69f4cb-499e-44f7-ac8a-f5ca39d37307"
   },
   "outputs": [
    {
     "name": "stdout",
     "output_type": "stream",
     "text": [
      "(16067, 11)\n"
     ]
    },
    {
     "data": {
      "text/plain": [
       "(100, 11)"
      ]
     },
     "execution_count": 88,
     "metadata": {},
     "output_type": "execute_result"
    }
   ],
   "source": [
    "n = 100\n",
    "deslocamento = 5\n",
    "\n",
    "sys_sample_df = ufo_df.iloc[::deslocamento]\n",
    "\n",
    "print(sys_sample_df.shape)\n",
    "\n",
    "amostra = sys_sample_df.head(n)\n",
    "\n",
    "amostra.shape"
   ]
  },
  {
   "cell_type": "markdown",
   "metadata": {
    "id": "sisqtA3f9IvY"
   },
   "source": [
    "#### Amostragem aleatória simples\n",
    "\n",
    "Agora podemos retirar uma amostra aleatória simples de, digamos, tamanho igual a 100:"
   ]
  },
  {
   "cell_type": "code",
   "execution_count": null,
   "metadata": {
    "colab": {
     "base_uri": "https://localhost:8080/",
     "height": 610
    },
    "id": "ipUkWkWZoU8u",
    "outputId": "567956a9-87f1-4f2f-8c74-a96a09f22ac4"
   },
   "outputs": [
    {
     "data": {
      "text/html": [
       "<div>\n",
       "<style scoped>\n",
       "    .dataframe tbody tr th:only-of-type {\n",
       "        vertical-align: middle;\n",
       "    }\n",
       "\n",
       "    .dataframe tbody tr th {\n",
       "        vertical-align: top;\n",
       "    }\n",
       "\n",
       "    .dataframe thead th {\n",
       "        text-align: right;\n",
       "    }\n",
       "</style>\n",
       "<table border=\"1\" class=\"dataframe\">\n",
       "  <thead>\n",
       "    <tr style=\"text-align: right;\">\n",
       "      <th></th>\n",
       "      <th>datetime</th>\n",
       "      <th>city</th>\n",
       "      <th>state</th>\n",
       "      <th>country</th>\n",
       "      <th>shape</th>\n",
       "      <th>duration (seconds)</th>\n",
       "      <th>duration (hours/min)</th>\n",
       "      <th>comments</th>\n",
       "      <th>date posted</th>\n",
       "      <th>latitude</th>\n",
       "      <th>longitude</th>\n",
       "    </tr>\n",
       "  </thead>\n",
       "  <tbody>\n",
       "    <tr>\n",
       "      <th>34747</th>\n",
       "      <td>3/5/1995 12:00</td>\n",
       "      <td>anaheim</td>\n",
       "      <td>ca</td>\n",
       "      <td>us</td>\n",
       "      <td>other</td>\n",
       "      <td>900</td>\n",
       "      <td>15 minutes</td>\n",
       "      <td>In March of 1995 returning from St. Joseph Hos...</td>\n",
       "      <td>10/31/2003</td>\n",
       "      <td>33.8352778</td>\n",
       "      <td>-117.913611</td>\n",
       "    </tr>\n",
       "    <tr>\n",
       "      <th>20656</th>\n",
       "      <td>12/26/1997 21:35</td>\n",
       "      <td>bonham</td>\n",
       "      <td>tx</td>\n",
       "      <td>us</td>\n",
       "      <td>unknown</td>\n",
       "      <td>180</td>\n",
       "      <td>2 to 3 minutes</td>\n",
       "      <td>Red object moving west to east&amp;#44 person look...</td>\n",
       "      <td>3/7/1998</td>\n",
       "      <td>33.5772222</td>\n",
       "      <td>-96.178056</td>\n",
       "    </tr>\n",
       "    <tr>\n",
       "      <th>74425</th>\n",
       "      <td>9/14/2010 22:00</td>\n",
       "      <td>fenton</td>\n",
       "      <td>mo</td>\n",
       "      <td>us</td>\n",
       "      <td>fireball</td>\n",
       "      <td>3600</td>\n",
       "      <td>1 hour or more</td>\n",
       "      <td>bright flickering red lights orbitting around ...</td>\n",
       "      <td>4/3/2011</td>\n",
       "      <td>38.5131</td>\n",
       "      <td>-90.435833</td>\n",
       "    </tr>\n",
       "    <tr>\n",
       "      <th>68687</th>\n",
       "      <td>8/2/2012 21:30</td>\n",
       "      <td>oregon city</td>\n",
       "      <td>or</td>\n",
       "      <td>us</td>\n",
       "      <td>fireball</td>\n",
       "      <td>180</td>\n",
       "      <td>3 minutes</td>\n",
       "      <td>Saw nine fireballs flying in the sky from the ...</td>\n",
       "      <td>10/30/2012</td>\n",
       "      <td>45.3575</td>\n",
       "      <td>-122.605556</td>\n",
       "    </tr>\n",
       "    <tr>\n",
       "      <th>37892</th>\n",
       "      <td>4/20/2000 21:00</td>\n",
       "      <td>melbourne (vic&amp;#44 australia)</td>\n",
       "      <td>NaN</td>\n",
       "      <td>au</td>\n",
       "      <td>light</td>\n",
       "      <td>300</td>\n",
       "      <td>5 minutes</td>\n",
       "      <td>A drifting flashing glow of orange&amp;#44 which w...</td>\n",
       "      <td>4/26/2000</td>\n",
       "      <td>-37.813938</td>\n",
       "      <td>144.963425</td>\n",
       "    </tr>\n",
       "  </tbody>\n",
       "</table>\n",
       "</div>"
      ],
      "text/plain": [
       "               datetime                           city  ...    latitude  longitude \n",
       "34747    3/5/1995 12:00                        anaheim  ...  33.8352778 -117.913611\n",
       "20656  12/26/1997 21:35                         bonham  ...  33.5772222  -96.178056\n",
       "74425   9/14/2010 22:00                         fenton  ...     38.5131  -90.435833\n",
       "68687    8/2/2012 21:30                    oregon city  ...     45.3575 -122.605556\n",
       "37892   4/20/2000 21:00  melbourne (vic&#44 australia)  ...  -37.813938  144.963425\n",
       "\n",
       "[5 rows x 11 columns]"
      ]
     },
     "execution_count": 15,
     "metadata": {},
     "output_type": "execute_result"
    }
   ],
   "source": [
    "amostra = ufo_df.sample(n = 100)\n",
    "amostra.head()"
   ]
  },
  {
   "cell_type": "code",
   "execution_count": null,
   "metadata": {
    "colab": {
     "base_uri": "https://localhost:8080/"
    },
    "id": "bU5JbgIXBmqb",
    "outputId": "cd364fb0-f23f-4da9-eb9e-efdf9d7efc39"
   },
   "outputs": [
    {
     "data": {
      "text/plain": [
       "(100, 11)"
      ]
     },
     "execution_count": 16,
     "metadata": {},
     "output_type": "execute_result"
    }
   ],
   "source": [
    "amostra.shape"
   ]
  },
  {
   "cell_type": "markdown",
   "metadata": {
    "id": "kR7ixymoKpi8"
   },
   "source": [
    "#### Amostragem aleatória estratificada\n",
    "\n",
    "Vamos usar o código acima para produzir uma amostra aleatória estratificada levando em consideração o atributo `country`."
   ]
  },
  {
   "cell_type": "code",
   "execution_count": null,
   "metadata": {
    "colab": {
     "base_uri": "https://localhost:8080/",
     "height": 282
    },
    "id": "5Pqpxwl5rJUm",
    "outputId": "b15c8288-b6df-44f6-9764-df0af16ed624"
   },
   "outputs": [
    {
     "data": {
      "text/plain": [
       "<matplotlib.axes._subplots.AxesSubplot at 0x7f8c64c86750>"
      ]
     },
     "execution_count": 86,
     "metadata": {},
     "output_type": "execute_result"
    },
    {
     "data": {
      "image/png": "[encoded data removed]",
      "text/plain": [
       "<Figure size 432x288 with 1 Axes>"
      ]
     },
     "metadata": {
      "needs_background": "light"
     },
     "output_type": "display_data"
    }
   ],
   "source": [
    "ufo_df.country.hist()"
   ]
  },
  {
   "cell_type": "code",
   "execution_count": null,
   "metadata": {
    "id": "OIxv2nKCqXnT"
   },
   "outputs": [],
   "source": [
    "sample_df = ufo_df.groupby('country').apply(lambda x: x.sample(frac=0.1))"
   ]
  },
  {
   "cell_type": "code",
   "execution_count": null,
   "metadata": {
    "colab": {
     "base_uri": "https://localhost:8080/",
     "height": 282
    },
    "id": "FoY5wzatwcfO",
    "outputId": "a8e9dc93-a918-474f-e2f3-3d07d31adf7a"
   },
   "outputs": [
    {
     "data": {
      "text/plain": [
       "<matplotlib.axes._subplots.AxesSubplot at 0x7f8c65d467d0>"
      ]
     },
     "execution_count": 85,
     "metadata": {},
     "output_type": "execute_result"
    },
    {
     "data": {
      "image/png": "[encoded data removed]",
      "text/plain": [
       "<Figure size 432x288 with 1 Axes>"
      ]
     },
     "metadata": {
      "needs_background": "light"
     },
     "output_type": "display_data"
    }
   ],
   "source": [
    "sample_df.country.hist()"
   ]
  },
  {
   "cell_type": "markdown",
   "metadata": {
    "id": "2gSWVrOoLRpa"
   },
   "source": [
    "Podemos nos certificar de que a amostra produzida realmente mantém as proporções de países existente na população."
   ]
  }
 ],
 "metadata": {
  "colab": {
   "provenance": []
  },
  "kernelspec": {
   "display_name": "Python 3 (ipykernel)",
   "language": "python",
   "name": "python3"
  },
  "language_info": {
   "codemirror_mode": {
    "name": "ipython",
    "version": 3
   },
   "file_extension": ".py",
   "mimetype": "text/x-python",
   "name": "python",
   "nbconvert_exporter": "python",
   "pygments_lexer": "ipython3",
   "version": "3.10.9"
  }
 },
 "nbformat": 4,
 "nbformat_minor": 1
}
